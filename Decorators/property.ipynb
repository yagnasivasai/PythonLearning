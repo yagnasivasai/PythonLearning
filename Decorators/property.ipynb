{
 "cells": [
  {
   "cell_type": "code",
   "execution_count": null,
   "metadata": {},
   "outputs": [],
   "source": [
    "class student:\n",
    "    def __init__(self, name, grade):\n",
    "        self.name = name\n",
    "        self.grade = grade\n",
    "        self.msg = self.name + \" got a grade \" + self.grade ## here we used attribute method for the message\n",
    "\n",
    "\n",
    "stud1 = student(\"nia\", \"b\")\n",
    "print(\"name:\",stud1.name)\n",
    "print(\"msg:\",stud1.msg)\n",
    "print(\"grade:\",stud1.grade)\n"
   ]
  },
  {
   "cell_type": "code",
   "execution_count": null,
   "metadata": {},
   "outputs": [],
   "source": [
    "class student:\n",
    "    def __init__(self, name, grade):\n",
    "        self.name = name\n",
    "        self.grade = grade\n",
    "    ## Here we are using method instead of attribute\n",
    "    def msg(self):\n",
    "        return self.name + \" got a grade \" + self.grade\n",
    "stud1 = student(\"nia\", \"b\")\n",
    "print(\"name:\",stud1.name)\n",
    "print(\"msg:\",stud1.msg)\n",
    "print(\"grade:\",stud1.grade)\n",
    "print(stud1.msg())"
   ]
  },
  {
   "cell_type": "code",
   "execution_count": 9,
   "metadata": {},
   "outputs": [
    {
     "name": "stdout",
     "output_type": "stream",
     "text": [
      "name: nia\n",
      "msg: nia got a grade b\n",
      "grade: b\n",
      "nia got a grade b\n"
     ]
    }
   ],
   "source": [
    "class student:\n",
    "    def __init__(self, name, grade):\n",
    "        self.name = name\n",
    "        self.grade = grade\n",
    "    ## Here we are using decarator\n",
    "    @property\n",
    "    def msg(self):\n",
    "        return self.name + \" got a grade \" + self.grade\n",
    "stud1 = student(\"nia\", \"b\")\n",
    "print(\"name:\",stud1.name)\n",
    "print(\"msg:\",stud1.msg)\n",
    "print(\"grade:\",stud1.grade)\n",
    "print(stud1.msg)"
   ]
  },
  {
   "cell_type": "code",
   "execution_count": 16,
   "metadata": {},
   "outputs": [
    {
     "name": "stdout",
     "output_type": "stream",
     "text": [
      "['I', 'am', 'always', 'right']\n",
      "name: I\n",
      "msg: I am always right\n",
      "grade: right\n",
      "I am always right\n"
     ]
    }
   ],
   "source": [
    "class student:\n",
    "    def __init__(self, name, grade):\n",
    "        self.name = name\n",
    "        self.grade = grade\n",
    "    # @property\n",
    "    def msg(self):\n",
    "        return self.name + \" got a grade \" + self.grade\n",
    "    def setter(self,msg):\n",
    "        sent =msg.split(\" \")\n",
    "        print(sent)\n",
    "        self.name = sent[0]\n",
    "        self.grade = sent[-1]\n",
    "stud1 = student(\"nia\", \"b\")\n",
    "stud1.setter(\"I am always right\")\n",
    "stud1.msg = \"I am always right\"\n",
    "print(\"name:\",stud1.name)\n",
    "print(\"msg:\",stud1.msg)\n",
    "print(\"grade:\",stud1.grade)\n",
    "print(stud1.msg)"
   ]
  }
 ],
 "metadata": {
  "interpreter": {
   "hash": "4bb6197cf3cc9a71b6e2a1685dfbb47137381d28f5ac3d7371063debada5003e"
  },
  "kernelspec": {
   "display_name": "Python 3.9.6 64-bit",
   "name": "python3"
  },
  "language_info": {
   "codemirror_mode": {
    "name": "ipython",
    "version": 3
   },
   "file_extension": ".py",
   "mimetype": "text/x-python",
   "name": "python",
   "nbconvert_exporter": "python",
   "pygments_lexer": "ipython3",
   "version": "3.9.6"
  },
  "orig_nbformat": 4
 },
 "nbformat": 4,
 "nbformat_minor": 2
}
